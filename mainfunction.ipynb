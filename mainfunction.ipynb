{
 "cells": [
  {
   "cell_type": "markdown",
   "id": "6cbf8eb1",
   "metadata": {},
   "source": [
    "# Main Function"
   ]
  },
  {
   "cell_type": "markdown",
   "id": "d4781cc2",
   "metadata": {},
   "source": [
    "The main thing one often wants to compute in a Markov system is:\n",
    "\n",
    "- What is the probability of the system being in state $s$ at time $t$? \n",
    "\n",
    "In general terms, we have the transition matrix $T$ , we have $s_1, s_2, s_3 \\ldots  s_n$ possible states, and we begin at time $t = 0$. \n",
    "\n",
    "Let $I$ be a $n$-vector with the probabilities of the starting state of the system:\n",
    "\n",
    "$I = [\\ P(S_0 = s_1), \\ P(S_0 = s_2), \\ P(S_0 = s_3) \\ \\ldots \\ P(S_0 = s_n) \\ ]$\n",
    "\n",
    "If we choose the starting state ourselves, e.g. $S_0 = s_2$, then we simply let $P(S_0 = s_2) = 1$ and let all the other entries be 0:\n",
    "\n",
    "$I = [\\ 0 \\ \\ \\ 1 \\ \\ \\ 0 \\ \\ \\ 0 \\ \\ \\ \\ldots \\ \\ \\ 0 \\ ]$\n",
    "\n",
    "The probability of the system being in state $s$ at time $t$ then, is the $s$-th entry of the vector formed by:\n",
    "\n",
    "$I \\times T^t$\n",
    "\n",
    "(For a derivation of this, see chapter 11.2.3 in this [book](https://www.probabilitycourse.com) which offers a good introduction to Markov Processes.)\n",
    "\n",
    "To compute this in Python, one can use the following function:"
   ]
  },
  {
   "cell_type": "code",
   "execution_count": 7,
   "id": "8c4d5c32",
   "metadata": {},
   "outputs": [],
   "source": [
    "import numpy as np\n",
    "\n",
    "#Transition matrix\n",
    "t_matrix = np.array([])\n",
    "\n",
    "#I-vector\n",
    "initial = np.array([])\n",
    "\n",
    "#Finds the probability of being in state(arg1) at time(arg2)\n",
    "def main_func(state, time):\n",
    "    current = 1\n",
    "    base = t_matrix\n",
    "    while current < time:\n",
    "        base = np.matmul(base,t_matrix)\n",
    "        current += 1\n",
    "    return np.matmul(initial, base)[state-1]"
   ]
  }
 ],
 "metadata": {
  "kernelspec": {
   "display_name": "Python 3 (ipykernel)",
   "language": "python",
   "name": "python3"
  },
  "language_info": {
   "codemirror_mode": {
    "name": "ipython",
    "version": 3
   },
   "file_extension": ".py",
   "mimetype": "text/x-python",
   "name": "python",
   "nbconvert_exporter": "python",
   "pygments_lexer": "ipython3",
   "version": "3.8.10"
  }
 },
 "nbformat": 4,
 "nbformat_minor": 5
}
